{
  "nbformat": 4,
  "nbformat_minor": 0,
  "metadata": {
    "colab": {
      "provenance": []
    },
    "kernelspec": {
      "name": "python3",
      "display_name": "Python 3"
    },
    "language_info": {
      "name": "python"
    }
  },
  "cells": [
    {
      "cell_type": "code",
      "execution_count": 11,
      "metadata": {
        "colab": {
          "base_uri": "https://localhost:8080/"
        },
        "id": "5L1R9iuUV6uL",
        "outputId": "ea0559b0-e156-4f75-dff6-71fa54f4fe18"
      },
      "outputs": [
        {
          "output_type": "stream",
          "name": "stdout",
          "text": [
            "Введіть рядки матриці: \n",
            "2 3 4 5\n",
            "2 3 4\n",
            "5 6 7 8\n",
            "\n",
            "Введені рядки мають різну довжину!\n"
          ]
        }
      ],
      "source": [
        "def ver(matrix):\n",
        "  rows = len(matrix)\n",
        "  cols = len(matrix[0])\n",
        "  for row in range(rows):\n",
        "    for col in range(cols // 2):\n",
        "      if matrix[row][col] != matrix[row][cols - col - 1]:\n",
        "        return False\n",
        "  return True\n",
        "def inp():\n",
        "  matrix = []\n",
        "  print(\"Введіть рядки матриці: \")\n",
        "  while True:\n",
        "    line = input()\n",
        "    if line == \"\":\n",
        "      break\n",
        "    matrix.append([int(x) for x in line.split()])\n",
        "  return matrix\n",
        "matrix = inp()\n",
        "if all(len(row) == len(matrix[0]) for row in matrix):\n",
        "  if ver(matrix):\n",
        "    print(\"Матриця має вертикальну вісь симетрії.\")\n",
        "  else:\n",
        "    print(\"Матриця не має вертикальної осі симетрії.\")\n",
        "else:\n",
        "    print(\"Введені рядки мають різну довжину!\")"
      ]
    }
  ]
}